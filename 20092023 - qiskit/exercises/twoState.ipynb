{
 "cells": [
  {
   "cell_type": "code",
   "execution_count": 12,
   "metadata": {},
   "outputs": [],
   "source": [
    "# Useful additional packages\n",
    "import matplotlib.pyplot as plt\n",
    "import numpy as np\n",
    "from math import pi\n",
    "from qiskit import QuantumCircuit\n",
    "from qiskit import QuantumCircuit, ClassicalRegister, QuantumRegister, transpile\n",
    "from qiskit.tools.visualization import circuit_drawer\n",
    "from qiskit.quantum_info import state_fidelity"
   ]
  },
  {
   "cell_type": "code",
   "execution_count": 13,
   "metadata": {},
   "outputs": [],
   "source": [
    "# Create a Quantum Circuit acting on a quantum register of three qubits\n",
    "circ = QuantumCircuit(2)\n",
    "q = QuantumRegister(1)"
   ]
  },
  {
   "cell_type": "code",
   "execution_count": 14,
   "metadata": {},
   "outputs": [
    {
     "data": {
      "text/html": [
       "<pre style=\"word-wrap: normal;white-space: pre;background: #fff0;line-height: 1.1;font-family: &quot;Courier New&quot;,Courier,monospace\">    ┌────────────────┐\n",
       "q1: ┤ U(π/2,π/4,π/8) ├\n",
       "    └────────────────┘</pre>"
      ],
      "text/plain": [
       "    ┌────────────────┐\n",
       "q1: ┤ U(π/2,π/4,π/8) ├\n",
       "    └────────────────┘"
      ]
     },
     "execution_count": 14,
     "metadata": {},
     "output_type": "execute_result"
    }
   ],
   "source": [
    " \n",
    " \t\n",
    " \n",
    " \t\n",
    "   \n",
    "qc = QuantumCircuit(q)\n",
    "qc.u(pi/2,pi/4,pi/8,q)\n",
    "qc.draw()\n",
    "\n"
   ]
  },
  {
   "cell_type": "code",
   "execution_count": 38,
   "metadata": {},
   "outputs": [],
   "source": [
    "from qiskit.quantum_info import Pauli, Operator\n",
    "\n",
    "# Define the Pauli matrices\n",
    "sigma_x = Pauli('X')\n",
    "sigma_y = Pauli('Y')\n",
    "sigma_z = Pauli('Z')\n",
    "\n",
    "# # Define the two basis states |a'> and |a''>\n",
    "# a_prime = Operator.from_label('0')  # |a'> = |0>\n",
    "# a_double_prime = Operator.from_label('1')  # |a''> = |1>\n",
    "# Define the two basis states |a'> and |a''> as 2x1 column vectors\n",
    "a_prime = Operator(np.array([[1], [0]]))  # |a'> = |0>\n",
    "a_double_prime = Operator(np.array([[0], [1]]))  # |a''> = |1>\n",
    "\n",
    "\n",
    "\n",
    "delta = 1\n",
    "# Create the Hamiltonian term |a'><a''|\n",
    "hamiltonian_term = delta * (a_prime.tensor(a_double_prime.adjoint()) + a_double_prime.tensor(a_prime.adjoint()))\n",
    "\n",
    "# You can now work with this Hamiltonian term, for example, apply it to a quantum state or perform operations.\n"
   ]
  },
  {
   "cell_type": "code",
   "execution_count": 39,
   "metadata": {},
   "outputs": [],
   "source": [
    "# import numpy as np\n",
    "from qiskit.quantum_info import Operator\n",
    "\n",
    "# Define your quantum state as a numpy array\n",
    "psi = np.array([1 / np.sqrt(2), 1 / np.sqrt(2)])  # For example, |0> + |1>\n",
    "\n",
    "# Define your Hamiltonian operator\n",
    "H = Operator(hamiltonian_term)  # Replace 'your_hamiltonian_matrix' with the actual matrix\n",
    "\n",
    "# Apply the Hamiltonian to the quantum state\n",
    "result_state = H.data.dot(psi)\n",
    "\n",
    "# 'result_state' now contains the quantum state after applying the Hamiltonian\n"
   ]
  },
  {
   "cell_type": "code",
   "execution_count": 40,
   "metadata": {},
   "outputs": [
    {
     "data": {
      "text/plain": [
       "array([0.70710678+0.j, 0.70710678+0.j])"
      ]
     },
     "execution_count": 40,
     "metadata": {},
     "output_type": "execute_result"
    }
   ],
   "source": [
    "# result_state  # This shows the result of applying the Hamiltonian to the quantum state, when superposed with |0> + |1>"
   ]
  },
  {
   "cell_type": "code",
   "execution_count": 49,
   "metadata": {},
   "outputs": [],
   "source": [
    "# Now we try to simulate the time evolution of the system when the state is |a'> = |0>\n",
    "psi_a_prime = np.array([1, 0])  # |a'> = |0>\n",
    "psi_a_double_prime = np.array([0, 1])  # |a''> = |1>\n",
    "\n",
    "# Define the time variable\n",
    "t = 0.0001\n",
    "\n",
    "# Define the time evolution operator\n",
    "U = Operator(np.cos(t) * np.eye(2) - 1j * np.sin(t) * hamiltonian_term)\n",
    "\n",
    "# Apply the time evolution operator to the initial state\n",
    "result_state = U.data.dot(psi_a_prime)\n",
    "\n",
    "# 'result_state' now contains the quantum state after applying the time evolution operator to the initial state\n",
    "\n",
    "\n",
    "\n",
    "\n"
   ]
  },
  {
   "cell_type": "code",
   "execution_count": 50,
   "metadata": {},
   "outputs": [
    {
     "data": {
      "text/plain": [
       "array([1.+0.00000000e+00j, 0.-9.99999998e-05j])"
      ]
     },
     "execution_count": 50,
     "metadata": {},
     "output_type": "execute_result"
    }
   ],
   "source": [
    "result_state"
   ]
  },
  {
   "cell_type": "code",
   "execution_count": 46,
   "metadata": {},
   "outputs": [
    {
     "data": {
      "text/plain": [
       "array([0.+0.j, 1.+0.j])"
      ]
     },
     "execution_count": 46,
     "metadata": {},
     "output_type": "execute_result"
    }
   ],
   "source": [
    "H.data.dot(psi_a_prime)"
   ]
  },
  {
   "cell_type": "code",
   "execution_count": 24,
   "metadata": {},
   "outputs": [
    {
     "data": {
      "text/html": [
       "<h3>Version Information</h3><table><tr><th>Software</th><th>Version</th></tr><tr><td><code>qiskit</code></td><td>0.44.1</td></tr><tr><td><code>qiskit-terra</code></td><td>0.25.1</td></tr><tr><td><code>qiskit_aer</code></td><td>0.12.2</td></tr><tr><th colspan='2'>System information</th></tr><tr><td>Python version</td><td>3.8.17</td></tr><tr><td>Python compiler</td><td>MSC v.1929 64 bit (AMD64)</td></tr><tr><td>Python build</td><td>default, Jun 16 2023 07:01:59</td></tr><tr><td>OS</td><td>Windows</td></tr><tr><td>CPUs</td><td>4</td></tr><tr><td>Memory (Gb)</td><td>13.948814392089844</td></tr><tr><td colspan='2'>Wed Sep 20 10:31:48 2023 Rom, sommertid</td></tr></table>"
      ],
      "text/plain": [
       "<IPython.core.display.HTML object>"
      ]
     },
     "metadata": {},
     "output_type": "display_data"
    },
    {
     "data": {
      "text/html": [
       "<div style='width: 100%; background-color:#d5d9e0;padding-left: 10px; padding-bottom: 10px; padding-right: 10px; padding-top: 5px'><h3>This code is a part of Qiskit</h3><p>&copy; Copyright IBM 2017, 2023.</p><p>This code is licensed under the Apache License, Version 2.0. You may<br>obtain a copy of this license in the LICENSE.txt file in the root directory<br> of this source tree or at http://www.apache.org/licenses/LICENSE-2.0.<p>Any modifications or derivative works of this code must retain this<br>copyright notice, and modified files need to carry a notice indicating<br>that they have been altered from the originals.</p></div>"
      ],
      "text/plain": [
       "<IPython.core.display.HTML object>"
      ]
     },
     "metadata": {},
     "output_type": "display_data"
    }
   ],
   "source": [
    "import qiskit.tools.jupyter\n",
    "%qiskit_version_table\n",
    "%qiskit_copyright"
   ]
  },
  {
   "cell_type": "code",
   "execution_count": null,
   "metadata": {},
   "outputs": [],
   "source": []
  }
 ],
 "metadata": {
  "kernelspec": {
   "display_name": "qiskit",
   "language": "python",
   "name": "python3"
  },
  "language_info": {
   "codemirror_mode": {
    "name": "ipython",
    "version": 3
   },
   "file_extension": ".py",
   "mimetype": "text/x-python",
   "name": "python",
   "nbconvert_exporter": "python",
   "pygments_lexer": "ipython3",
   "version": "3.8.17"
  },
  "orig_nbformat": 4
 },
 "nbformat": 4,
 "nbformat_minor": 2
}
